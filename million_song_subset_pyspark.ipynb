{
  "nbformat": 4,
  "nbformat_minor": 0,
  "metadata": {
    "application/vnd.databricks.v1+notebook": {
      "notebookName": "million_song_subset",
      "dashboards": [],
      "language": "python",
      "widgets": {},
      "notebookOrigID": 3475753822713308
    },
    "colab": {
      "name": "million_song_subset_pyspark.ipynb",
      "provenance": []
    }
  },
  "cells": [
    {
      "cell_type": "code",
      "metadata": {
        "application/vnd.databricks.v1+cell": {
          "title": "",
          "showTitle": false,
          "inputWidgets": {},
          "nuid": "079a6d23-ea5d-433d-82c6-0d210db2b8d7"
        },
        "id": "VaLL6Akb8_Ul",
        "outputId": "1c56b7e0-e9cf-4ee9-ba25-88417e9d96be"
      },
      "source": [
        "raw_data_df = spark.read.format(\"csv\").load(\"dbfs:/FileStore/shared_uploads/wenhuans@andrew.cmu.edu/output_copy.csv\")\n",
        "num_points = raw_data_df.count()\n",
        "print (num_points)\n",
        "sample_points = raw_data_df.take(1)\n",
        "print (sample_points)\n"
      ],
      "execution_count": null,
      "outputs": [
        {
          "output_type": "display_data",
          "metadata": {
            "application/vnd.databricks.v1+output": {
              "datasetInfos": [
                {
                  "name": "raw_data_df",
                  "typeStr": "pyspark.sql.dataframe.DataFrame",
                  "schema": {
                    "fields": [
                      {
                        "metadata": {},
                        "name": "_c0",
                        "nullable": true,
                        "type": "string"
                      },
                      {
                        "metadata": {},
                        "name": "_c1",
                        "nullable": true,
                        "type": "string"
                      },
                      {
                        "metadata": {},
                        "name": "_c2",
                        "nullable": true,
                        "type": "string"
                      },
                      {
                        "metadata": {},
                        "name": "_c3",
                        "nullable": true,
                        "type": "string"
                      },
                      {
                        "metadata": {},
                        "name": "_c4",
                        "nullable": true,
                        "type": "string"
                      },
                      {
                        "metadata": {},
                        "name": "_c5",
                        "nullable": true,
                        "type": "string"
                      },
                      {
                        "metadata": {},
                        "name": "_c6",
                        "nullable": true,
                        "type": "string"
                      },
                      {
                        "metadata": {},
                        "name": "_c7",
                        "nullable": true,
                        "type": "string"
                      },
                      {
                        "metadata": {},
                        "name": "_c8",
                        "nullable": true,
                        "type": "string"
                      },
                      {
                        "metadata": {},
                        "name": "_c9",
                        "nullable": true,
                        "type": "string"
                      },
                      {
                        "metadata": {},
                        "name": "_c10",
                        "nullable": true,
                        "type": "string"
                      },
                      {
                        "metadata": {},
                        "name": "_c11",
                        "nullable": true,
                        "type": "string"
                      },
                      {
                        "metadata": {},
                        "name": "_c12",
                        "nullable": true,
                        "type": "string"
                      },
                      {
                        "metadata": {},
                        "name": "_c13",
                        "nullable": true,
                        "type": "string"
                      },
                      {
                        "metadata": {},
                        "name": "_c14",
                        "nullable": true,
                        "type": "string"
                      },
                      {
                        "metadata": {},
                        "name": "_c15",
                        "nullable": true,
                        "type": "string"
                      },
                      {
                        "metadata": {},
                        "name": "_c16",
                        "nullable": true,
                        "type": "string"
                      },
                      {
                        "metadata": {},
                        "name": "_c17",
                        "nullable": true,
                        "type": "string"
                      },
                      {
                        "metadata": {},
                        "name": "_c18",
                        "nullable": true,
                        "type": "string"
                      },
                      {
                        "metadata": {},
                        "name": "_c19",
                        "nullable": true,
                        "type": "string"
                      },
                      {
                        "metadata": {},
                        "name": "_c20",
                        "nullable": true,
                        "type": "string"
                      },
                      {
                        "metadata": {},
                        "name": "_c21",
                        "nullable": true,
                        "type": "string"
                      },
                      {
                        "metadata": {},
                        "name": "_c22",
                        "nullable": true,
                        "type": "string"
                      },
                      {
                        "metadata": {},
                        "name": "_c23",
                        "nullable": true,
                        "type": "string"
                      }
                    ],
                    "type": "struct"
                  },
                  "tableIdentifier": null
                }
              ],
              "data": "<div class=\"ansiout\">10001\n[Row(_c0=&#39;artist_name&#39;, _c1=&#39;title&#39;, _c2=&#39;artist_location&#39;, _c3=&#39;artsit_latitude&#39;, _c4=&#39; artist_longitude&#39;, _c5=&#39; release&#39;, _c6=&#39;artist_hotttness&#39;, _c7=&#39;familiarity&#39;, _c8=&#39;danceability&#39;, _c9=&#39;duration&#39;, _c10=&#39;energy&#39;, _c11=&#39;loudness&#39;, _c12=&#39;year&#39;, _c13=&#39;tempo&#39;, _c14=&#39;analysis_rate&#39;, _c15=&#39;end_of_fade_in&#39;, _c16=&#39;key&#39;, _c17=&#39;key_confidence&#39;, _c18=&#39;mode&#39;, _c19=&#39;mode_confidence&#39;, _c20=&#39;start_of_fade_out&#39;, _c21=&#39;time_signature&#39;, _c22=&#39;time_signature_conf&#39;, _c23=&#39; song_hotttness&#39;)]\n</div>",
              "removedWidgets": [],
              "addedWidgets": {},
              "type": "html",
              "arguments": {}
            }
          },
          "data": {
            "text/html": [
              "<style scoped>\n  .ansiout {\n    display: block;\n    unicode-bidi: embed;\n    white-space: pre-wrap;\n    word-wrap: break-word;\n    word-break: break-all;\n    font-family: \"Source Code Pro\", \"Menlo\", monospace;;\n    font-size: 13px;\n    color: #555;\n    margin-left: 4px;\n    line-height: 19px;\n  }\n</style>\n<div class=\"ansiout\">10001\n[Row(_c0=&#39;artist_name&#39;, _c1=&#39;title&#39;, _c2=&#39;artist_location&#39;, _c3=&#39;artsit_latitude&#39;, _c4=&#39; artist_longitude&#39;, _c5=&#39; release&#39;, _c6=&#39;artist_hotttness&#39;, _c7=&#39;familiarity&#39;, _c8=&#39;danceability&#39;, _c9=&#39;duration&#39;, _c10=&#39;energy&#39;, _c11=&#39;loudness&#39;, _c12=&#39;year&#39;, _c13=&#39;tempo&#39;, _c14=&#39;analysis_rate&#39;, _c15=&#39;end_of_fade_in&#39;, _c16=&#39;key&#39;, _c17=&#39;key_confidence&#39;, _c18=&#39;mode&#39;, _c19=&#39;mode_confidence&#39;, _c20=&#39;start_of_fade_out&#39;, _c21=&#39;time_signature&#39;, _c22=&#39;time_signature_conf&#39;, _c23=&#39; song_hotttness&#39;)]\n</div>"
            ]
          }
        }
      ]
    },
    {
      "cell_type": "code",
      "metadata": {
        "application/vnd.databricks.v1+cell": {
          "title": "",
          "showTitle": false,
          "inputWidgets": {},
          "nuid": "79007243-c13c-466e-87e9-dda8e9887255"
        },
        "id": "hFHOT9gl8_Ut",
        "outputId": "e62d4615-f03a-4f5c-ee38-93cccc774862"
      },
      "source": [
        "# remove header\n",
        "print(raw_data_df.columns)\n",
        "cn = ['artist_name', 'title', 'artist_location', 'artsit_latitude', ' artist_longitude', ' release', 'artist_hotttness', 'familiarity', 'danceability', 'duration', 'energy', 'loudness', 'year', 'tempo', 'analysis_rate', 'end_of_fade_in', 'key', 'key_confidence', 'mode', 'mode_confidence', 'start_of_fade_out', 'time_signature', 'time_signature_conf', ' song_hotttness']\n",
        "raw_data_df = raw_data_df.toDF(*cn)\n",
        "sample = df.take(1)\n",
        "print(sample_points)\n",
        "raw_data_df = raw_data_df.filter(raw_data_df.artist_name != 'artist_name')\n",
        "print(raw_data_df.take(1))\n"
      ],
      "execution_count": null,
      "outputs": [
        {
          "output_type": "display_data",
          "metadata": {
            "application/vnd.databricks.v1+output": {
              "datasetInfos": [
                {
                  "name": "raw_data_df",
                  "typeStr": "pyspark.sql.dataframe.DataFrame",
                  "schema": {
                    "fields": [
                      {
                        "metadata": {},
                        "name": "artist_name",
                        "nullable": true,
                        "type": "string"
                      },
                      {
                        "metadata": {},
                        "name": "title",
                        "nullable": true,
                        "type": "string"
                      },
                      {
                        "metadata": {},
                        "name": "artist_location",
                        "nullable": true,
                        "type": "string"
                      },
                      {
                        "metadata": {},
                        "name": "artsit_latitude",
                        "nullable": true,
                        "type": "string"
                      },
                      {
                        "metadata": {},
                        "name": " artist_longitude",
                        "nullable": true,
                        "type": "string"
                      },
                      {
                        "metadata": {},
                        "name": " release",
                        "nullable": true,
                        "type": "string"
                      },
                      {
                        "metadata": {},
                        "name": "artist_hotttness",
                        "nullable": true,
                        "type": "string"
                      },
                      {
                        "metadata": {},
                        "name": "familiarity",
                        "nullable": true,
                        "type": "string"
                      },
                      {
                        "metadata": {},
                        "name": "danceability",
                        "nullable": true,
                        "type": "string"
                      },
                      {
                        "metadata": {},
                        "name": "duration",
                        "nullable": true,
                        "type": "string"
                      },
                      {
                        "metadata": {},
                        "name": "energy",
                        "nullable": true,
                        "type": "string"
                      },
                      {
                        "metadata": {},
                        "name": "loudness",
                        "nullable": true,
                        "type": "string"
                      },
                      {
                        "metadata": {},
                        "name": "year",
                        "nullable": true,
                        "type": "string"
                      },
                      {
                        "metadata": {},
                        "name": "tempo",
                        "nullable": true,
                        "type": "string"
                      },
                      {
                        "metadata": {},
                        "name": "analysis_rate",
                        "nullable": true,
                        "type": "string"
                      },
                      {
                        "metadata": {},
                        "name": "end_of_fade_in",
                        "nullable": true,
                        "type": "string"
                      },
                      {
                        "metadata": {},
                        "name": "key",
                        "nullable": true,
                        "type": "string"
                      },
                      {
                        "metadata": {},
                        "name": "key_confidence",
                        "nullable": true,
                        "type": "string"
                      },
                      {
                        "metadata": {},
                        "name": "mode",
                        "nullable": true,
                        "type": "string"
                      },
                      {
                        "metadata": {},
                        "name": "mode_confidence",
                        "nullable": true,
                        "type": "string"
                      },
                      {
                        "metadata": {},
                        "name": "start_of_fade_out",
                        "nullable": true,
                        "type": "string"
                      },
                      {
                        "metadata": {},
                        "name": "time_signature",
                        "nullable": true,
                        "type": "string"
                      },
                      {
                        "metadata": {},
                        "name": "time_signature_conf",
                        "nullable": true,
                        "type": "string"
                      },
                      {
                        "metadata": {},
                        "name": " song_hotttness",
                        "nullable": true,
                        "type": "string"
                      }
                    ],
                    "type": "struct"
                  },
                  "tableIdentifier": null
                }
              ],
              "data": "<div class=\"ansiout\">[&#39;_c0&#39;, &#39;_c1&#39;, &#39;_c2&#39;, &#39;_c3&#39;, &#39;_c4&#39;, &#39;_c5&#39;, &#39;_c6&#39;, &#39;_c7&#39;, &#39;_c8&#39;, &#39;_c9&#39;, &#39;_c10&#39;, &#39;_c11&#39;, &#39;_c12&#39;, &#39;_c13&#39;, &#39;_c14&#39;, &#39;_c15&#39;, &#39;_c16&#39;, &#39;_c17&#39;, &#39;_c18&#39;, &#39;_c19&#39;, &#39;_c20&#39;, &#39;_c21&#39;, &#39;_c22&#39;, &#39;_c23&#39;]\n[Row(_c0=&#39;artist_name&#39;, _c1=&#39;title&#39;, _c2=&#39;artist_location&#39;, _c3=&#39;artsit_latitude&#39;, _c4=&#39; artist_longitude&#39;, _c5=&#39; release&#39;, _c6=&#39;artist_hotttness&#39;, _c7=&#39;familiarity&#39;, _c8=&#39;danceability&#39;, _c9=&#39;duration&#39;, _c10=&#39;energy&#39;, _c11=&#39;loudness&#39;, _c12=&#39;year&#39;, _c13=&#39;tempo&#39;, _c14=&#39;analysis_rate&#39;, _c15=&#39;end_of_fade_in&#39;, _c16=&#39;key&#39;, _c17=&#39;key_confidence&#39;, _c18=&#39;mode&#39;, _c19=&#39;mode_confidence&#39;, _c20=&#39;start_of_fade_out&#39;, _c21=&#39;time_signature&#39;, _c22=&#39;time_signature_conf&#39;, _c23=&#39; song_hotttness&#39;)]\n[Row(artist_name=&#39;Raphaël&#39;, title=&#39;Je Sais Que La Terre Est Plate&#39;, artist_location=&#39;France&#39;, artsit_latitude=&#39;1.71819&#39;,  artist_longitude=&#39;46.71067&#39;,  release=&#39;Je Sais Que La Terre Est Plate Deluxe&#39;, artist_hotttness=&#39;0.3861516314132549&#39;, familiarity=&#39;0.5574602197393447&#39;, danceability=&#39;0.0&#39;, duration=&#39;148.74077&#39;, energy=&#39;0.0&#39;, loudness=&#39;-9.636&#39;, year=&#39;2008&#39;, tempo=&#39;124.059&#39;, analysis_rate=&#39;22050&#39;, end_of_fade_in=&#39;0.192&#39;, key=&#39;0&#39;, key_confidence=&#39;0.591&#39;, mode=&#39;1&#39;, mode_confidence=&#39;0.556&#39;, start_of_fade_out=&#39;141.607&#39;, time_signature=&#39;4&#39;, time_signature_conf=&#39;0.372&#39;,  song_hotttness=&#39;0.5479529419800353&#39;)]\n</div>",
              "removedWidgets": [],
              "addedWidgets": {},
              "type": "html",
              "arguments": {}
            }
          },
          "data": {
            "text/html": [
              "<style scoped>\n  .ansiout {\n    display: block;\n    unicode-bidi: embed;\n    white-space: pre-wrap;\n    word-wrap: break-word;\n    word-break: break-all;\n    font-family: \"Source Code Pro\", \"Menlo\", monospace;;\n    font-size: 13px;\n    color: #555;\n    margin-left: 4px;\n    line-height: 19px;\n  }\n</style>\n<div class=\"ansiout\">[&#39;_c0&#39;, &#39;_c1&#39;, &#39;_c2&#39;, &#39;_c3&#39;, &#39;_c4&#39;, &#39;_c5&#39;, &#39;_c6&#39;, &#39;_c7&#39;, &#39;_c8&#39;, &#39;_c9&#39;, &#39;_c10&#39;, &#39;_c11&#39;, &#39;_c12&#39;, &#39;_c13&#39;, &#39;_c14&#39;, &#39;_c15&#39;, &#39;_c16&#39;, &#39;_c17&#39;, &#39;_c18&#39;, &#39;_c19&#39;, &#39;_c20&#39;, &#39;_c21&#39;, &#39;_c22&#39;, &#39;_c23&#39;]\n[Row(_c0=&#39;artist_name&#39;, _c1=&#39;title&#39;, _c2=&#39;artist_location&#39;, _c3=&#39;artsit_latitude&#39;, _c4=&#39; artist_longitude&#39;, _c5=&#39; release&#39;, _c6=&#39;artist_hotttness&#39;, _c7=&#39;familiarity&#39;, _c8=&#39;danceability&#39;, _c9=&#39;duration&#39;, _c10=&#39;energy&#39;, _c11=&#39;loudness&#39;, _c12=&#39;year&#39;, _c13=&#39;tempo&#39;, _c14=&#39;analysis_rate&#39;, _c15=&#39;end_of_fade_in&#39;, _c16=&#39;key&#39;, _c17=&#39;key_confidence&#39;, _c18=&#39;mode&#39;, _c19=&#39;mode_confidence&#39;, _c20=&#39;start_of_fade_out&#39;, _c21=&#39;time_signature&#39;, _c22=&#39;time_signature_conf&#39;, _c23=&#39; song_hotttness&#39;)]\n[Row(artist_name=&#39;Raphaël&#39;, title=&#39;Je Sais Que La Terre Est Plate&#39;, artist_location=&#39;France&#39;, artsit_latitude=&#39;1.71819&#39;,  artist_longitude=&#39;46.71067&#39;,  release=&#39;Je Sais Que La Terre Est Plate Deluxe&#39;, artist_hotttness=&#39;0.3861516314132549&#39;, familiarity=&#39;0.5574602197393447&#39;, danceability=&#39;0.0&#39;, duration=&#39;148.74077&#39;, energy=&#39;0.0&#39;, loudness=&#39;-9.636&#39;, year=&#39;2008&#39;, tempo=&#39;124.059&#39;, analysis_rate=&#39;22050&#39;, end_of_fade_in=&#39;0.192&#39;, key=&#39;0&#39;, key_confidence=&#39;0.591&#39;, mode=&#39;1&#39;, mode_confidence=&#39;0.556&#39;, start_of_fade_out=&#39;141.607&#39;, time_signature=&#39;4&#39;, time_signature_conf=&#39;0.372&#39;,  song_hotttness=&#39;0.5479529419800353&#39;)]\n</div>"
            ]
          }
        }
      ]
    },
    {
      "cell_type": "code",
      "metadata": {
        "application/vnd.databricks.v1+cell": {
          "title": "",
          "showTitle": false,
          "inputWidgets": {},
          "nuid": "cc046c36-3067-47a5-a197-973f126fde57"
        },
        "id": "3D59Oop58_Uu",
        "outputId": "8dff43bb-2aad-4def-bc6d-b3fa0908bd4f"
      },
      "source": [
        "# remove non-numerical and constant features\n",
        "drop = cn[:6]\n",
        "drop.extend(['danceability', 'energy', 'analysis_rate'])\n",
        "print('dropping these: ',drop)\n",
        "cols = [i for i in cn if i not in drop]\n",
        "df = raw_data_df.drop(*drop)\n",
        "df.show(2)\n",
        "\n"
      ],
      "execution_count": null,
      "outputs": [
        {
          "output_type": "display_data",
          "metadata": {
            "application/vnd.databricks.v1+output": {
              "datasetInfos": [
                {
                  "name": "df",
                  "typeStr": "pyspark.sql.dataframe.DataFrame",
                  "schema": {
                    "fields": [
                      {
                        "metadata": {},
                        "name": "artist_hotttness",
                        "nullable": true,
                        "type": "string"
                      },
                      {
                        "metadata": {},
                        "name": "familiarity",
                        "nullable": true,
                        "type": "string"
                      },
                      {
                        "metadata": {},
                        "name": "duration",
                        "nullable": true,
                        "type": "string"
                      },
                      {
                        "metadata": {},
                        "name": "loudness",
                        "nullable": true,
                        "type": "string"
                      },
                      {
                        "metadata": {},
                        "name": "year",
                        "nullable": true,
                        "type": "string"
                      },
                      {
                        "metadata": {},
                        "name": "tempo",
                        "nullable": true,
                        "type": "string"
                      },
                      {
                        "metadata": {},
                        "name": "end_of_fade_in",
                        "nullable": true,
                        "type": "string"
                      },
                      {
                        "metadata": {},
                        "name": "key",
                        "nullable": true,
                        "type": "string"
                      },
                      {
                        "metadata": {},
                        "name": "key_confidence",
                        "nullable": true,
                        "type": "string"
                      },
                      {
                        "metadata": {},
                        "name": "mode",
                        "nullable": true,
                        "type": "string"
                      },
                      {
                        "metadata": {},
                        "name": "mode_confidence",
                        "nullable": true,
                        "type": "string"
                      },
                      {
                        "metadata": {},
                        "name": "start_of_fade_out",
                        "nullable": true,
                        "type": "string"
                      },
                      {
                        "metadata": {},
                        "name": "time_signature",
                        "nullable": true,
                        "type": "string"
                      },
                      {
                        "metadata": {},
                        "name": "time_signature_conf",
                        "nullable": true,
                        "type": "string"
                      },
                      {
                        "metadata": {},
                        "name": " song_hotttness",
                        "nullable": true,
                        "type": "string"
                      }
                    ],
                    "type": "struct"
                  },
                  "tableIdentifier": null
                }
              ],
              "data": "<div class=\"ansiout\">dropping these:  [&#39;artist_name&#39;, &#39;title&#39;, &#39;artist_location&#39;, &#39;artsit_latitude&#39;, &#39; artist_longitude&#39;, &#39; release&#39;, &#39;danceability&#39;, &#39;energy&#39;, &#39;analysis_rate&#39;]\n+-------------------+------------------+---------+--------+----+-------+--------------+---+--------------+----+---------------+-----------------+--------------+-------------------+-------------------+\n|   artist_hotttness|       familiarity| duration|loudness|year|  tempo|end_of_fade_in|key|key_confidence|mode|mode_confidence|start_of_fade_out|time_signature|time_signature_conf|     song_hotttness|\n+-------------------+------------------+---------+--------+----+-------+--------------+---+--------------+----+---------------+-----------------+--------------+-------------------+-------------------+\n| 0.3861516314132549|0.5574602197393447|148.74077|  -9.636|2008|124.059|         0.192|  0|         0.591|   1|          0.556|          141.607|             4|              0.372| 0.5479529419800353|\n|0.43485958934341257|0.6269577230052118|252.99546| -11.061|2004| 80.084|         0.514|  1|         0.429|   0|           0.67|          241.424|             4|              0.533|0.47563846801023907|\n+-------------------+------------------+---------+--------+----+-------+--------------+---+--------------+----+---------------+-----------------+--------------+-------------------+-------------------+\nonly showing top 2 rows\n\n</div>",
              "removedWidgets": [],
              "addedWidgets": {},
              "type": "html",
              "arguments": {}
            }
          },
          "data": {
            "text/html": [
              "<style scoped>\n  .ansiout {\n    display: block;\n    unicode-bidi: embed;\n    white-space: pre-wrap;\n    word-wrap: break-word;\n    word-break: break-all;\n    font-family: \"Source Code Pro\", \"Menlo\", monospace;;\n    font-size: 13px;\n    color: #555;\n    margin-left: 4px;\n    line-height: 19px;\n  }\n</style>\n<div class=\"ansiout\">dropping these:  [&#39;artist_name&#39;, &#39;title&#39;, &#39;artist_location&#39;, &#39;artsit_latitude&#39;, &#39; artist_longitude&#39;, &#39; release&#39;, &#39;danceability&#39;, &#39;energy&#39;, &#39;analysis_rate&#39;]\n+-------------------+------------------+---------+--------+----+-------+--------------+---+--------------+----+---------------+-----------------+--------------+-------------------+-------------------+\n   artist_hotttness|       familiarity| duration|loudness|year|  tempo|end_of_fade_in|key|key_confidence|mode|mode_confidence|start_of_fade_out|time_signature|time_signature_conf|     song_hotttness|\n+-------------------+------------------+---------+--------+----+-------+--------------+---+--------------+----+---------------+-----------------+--------------+-------------------+-------------------+\n 0.3861516314132549|0.5574602197393447|148.74077|  -9.636|2008|124.059|         0.192|  0|         0.591|   1|          0.556|          141.607|             4|              0.372| 0.5479529419800353|\n0.43485958934341257|0.6269577230052118|252.99546| -11.061|2004| 80.084|         0.514|  1|         0.429|   0|           0.67|          241.424|             4|              0.533|0.47563846801023907|\n+-------------------+------------------+---------+--------+----+-------+--------------+---+--------------+----+---------------+-----------------+--------------+-------------------+-------------------+\nonly showing top 2 rows\n\n</div>"
            ]
          }
        }
      ]
    },
    {
      "cell_type": "code",
      "metadata": {
        "application/vnd.databricks.v1+cell": {
          "title": "",
          "showTitle": false,
          "inputWidgets": {},
          "nuid": "3d024938-bafe-4601-a80a-63f28cdc8915"
        },
        "id": "Go3M2DEC8_Uu",
        "outputId": "e1297f67-bb43-452f-84fd-4437caf11529"
      },
      "source": [
        "# drop rows with not meaningful features\n",
        "cn_new = df.schema.names\n",
        "for c in cn_new:\n",
        "  df = df.filter(df[c] != 'nan')\n",
        "print('num_col before dropping 0 hotttnesss', df.count())"
      ],
      "execution_count": null,
      "outputs": [
        {
          "output_type": "display_data",
          "metadata": {
            "application/vnd.databricks.v1+output": {
              "datasetInfos": [
                {
                  "name": "df",
                  "typeStr": "pyspark.sql.dataframe.DataFrame",
                  "schema": {
                    "fields": [
                      {
                        "metadata": {},
                        "name": "artist_hotttness",
                        "nullable": true,
                        "type": "string"
                      },
                      {
                        "metadata": {},
                        "name": "familiarity",
                        "nullable": true,
                        "type": "string"
                      },
                      {
                        "metadata": {},
                        "name": "duration",
                        "nullable": true,
                        "type": "string"
                      },
                      {
                        "metadata": {},
                        "name": "loudness",
                        "nullable": true,
                        "type": "string"
                      },
                      {
                        "metadata": {},
                        "name": "year",
                        "nullable": true,
                        "type": "string"
                      },
                      {
                        "metadata": {},
                        "name": "tempo",
                        "nullable": true,
                        "type": "string"
                      },
                      {
                        "metadata": {},
                        "name": "end_of_fade_in",
                        "nullable": true,
                        "type": "string"
                      },
                      {
                        "metadata": {},
                        "name": "key",
                        "nullable": true,
                        "type": "string"
                      },
                      {
                        "metadata": {},
                        "name": "key_confidence",
                        "nullable": true,
                        "type": "string"
                      },
                      {
                        "metadata": {},
                        "name": "mode",
                        "nullable": true,
                        "type": "string"
                      },
                      {
                        "metadata": {},
                        "name": "mode_confidence",
                        "nullable": true,
                        "type": "string"
                      },
                      {
                        "metadata": {},
                        "name": "start_of_fade_out",
                        "nullable": true,
                        "type": "string"
                      },
                      {
                        "metadata": {},
                        "name": "time_signature",
                        "nullable": true,
                        "type": "string"
                      },
                      {
                        "metadata": {},
                        "name": "time_signature_conf",
                        "nullable": true,
                        "type": "string"
                      },
                      {
                        "metadata": {},
                        "name": " song_hotttness",
                        "nullable": true,
                        "type": "string"
                      }
                    ],
                    "type": "struct"
                  },
                  "tableIdentifier": null
                }
              ],
              "data": "<div class=\"ansiout\">num_col before dropping 0 hotttnesss 5646\n</div>",
              "removedWidgets": [],
              "addedWidgets": {},
              "type": "html",
              "arguments": {}
            }
          },
          "data": {
            "text/html": [
              "<style scoped>\n  .ansiout {\n    display: block;\n    unicode-bidi: embed;\n    white-space: pre-wrap;\n    word-wrap: break-word;\n    word-break: break-all;\n    font-family: \"Source Code Pro\", \"Menlo\", monospace;;\n    font-size: 13px;\n    color: #555;\n    margin-left: 4px;\n    line-height: 19px;\n  }\n</style>\n<div class=\"ansiout\">num_col before dropping 0 hotttnesss 5646\n</div>"
            ]
          }
        }
      ]
    },
    {
      "cell_type": "code",
      "metadata": {
        "application/vnd.databricks.v1+cell": {
          "title": "",
          "showTitle": false,
          "inputWidgets": {},
          "nuid": "546441a6-663a-4e9b-85e1-95ae90e3ebc8"
        },
        "id": "zT8wk0iN8_Uv",
        "outputId": "619c3695-7418-4461-cd23-8ccaa6299ca4"
      },
      "source": [
        "# remove rows with 0 hotttness\n",
        "df = df.filter(df[cn_new[-1]] !='0.0')\n",
        "print('num_col after dropping 0 hotttnesss', df.count())"
      ],
      "execution_count": null,
      "outputs": [
        {
          "output_type": "display_data",
          "metadata": {
            "application/vnd.databricks.v1+output": {
              "datasetInfos": [
                {
                  "name": "df",
                  "typeStr": "pyspark.sql.dataframe.DataFrame",
                  "schema": {
                    "fields": [
                      {
                        "metadata": {},
                        "name": "artist_hotttness",
                        "nullable": true,
                        "type": "string"
                      },
                      {
                        "metadata": {},
                        "name": "familiarity",
                        "nullable": true,
                        "type": "string"
                      },
                      {
                        "metadata": {},
                        "name": "duration",
                        "nullable": true,
                        "type": "string"
                      },
                      {
                        "metadata": {},
                        "name": "loudness",
                        "nullable": true,
                        "type": "string"
                      },
                      {
                        "metadata": {},
                        "name": "year",
                        "nullable": true,
                        "type": "string"
                      },
                      {
                        "metadata": {},
                        "name": "tempo",
                        "nullable": true,
                        "type": "string"
                      },
                      {
                        "metadata": {},
                        "name": "end_of_fade_in",
                        "nullable": true,
                        "type": "string"
                      },
                      {
                        "metadata": {},
                        "name": "key",
                        "nullable": true,
                        "type": "string"
                      },
                      {
                        "metadata": {},
                        "name": "key_confidence",
                        "nullable": true,
                        "type": "string"
                      },
                      {
                        "metadata": {},
                        "name": "mode",
                        "nullable": true,
                        "type": "string"
                      },
                      {
                        "metadata": {},
                        "name": "mode_confidence",
                        "nullable": true,
                        "type": "string"
                      },
                      {
                        "metadata": {},
                        "name": "start_of_fade_out",
                        "nullable": true,
                        "type": "string"
                      },
                      {
                        "metadata": {},
                        "name": "time_signature",
                        "nullable": true,
                        "type": "string"
                      },
                      {
                        "metadata": {},
                        "name": "time_signature_conf",
                        "nullable": true,
                        "type": "string"
                      },
                      {
                        "metadata": {},
                        "name": " song_hotttness",
                        "nullable": true,
                        "type": "string"
                      }
                    ],
                    "type": "struct"
                  },
                  "tableIdentifier": null
                }
              ],
              "data": "<div class=\"ansiout\">num_col after dropping 0 hotttnesss 4214\n</div>",
              "removedWidgets": [],
              "addedWidgets": {},
              "type": "html",
              "arguments": {}
            }
          },
          "data": {
            "text/html": [
              "<style scoped>\n  .ansiout {\n    display: block;\n    unicode-bidi: embed;\n    white-space: pre-wrap;\n    word-wrap: break-word;\n    word-break: break-all;\n    font-family: \"Source Code Pro\", \"Menlo\", monospace;;\n    font-size: 13px;\n    color: #555;\n    margin-left: 4px;\n    line-height: 19px;\n  }\n</style>\n<div class=\"ansiout\">num_col after dropping 0 hotttnesss 4214\n</div>"
            ]
          }
        }
      ]
    },
    {
      "cell_type": "code",
      "metadata": {
        "application/vnd.databricks.v1+cell": {
          "title": "",
          "showTitle": false,
          "inputWidgets": {},
          "nuid": "d95a2438-a920-4755-bf9f-a0e5da5450a4"
        },
        "id": "hj24XnoQ8_Uv",
        "outputId": "0006b6be-2d53-4370-cefd-b7e823cb626f"
      },
      "source": [
        "# convirt to float\n",
        "from pyspark.sql.functions import mean as _mean, stddev as _stddev, col\n",
        "df = df.select(*(col(c).cast(\"float\").alias(c) for c in df.columns))\n",
        "# df.take(1)\n",
        "# obtain mean and std of each column/feature, except the label\n",
        "mean_d = dict() # todo broadcast this\n",
        "std_d = dict() # todo broadcast this\n",
        "for c in cn_new[:-1]:\n",
        "  df_stats = df.select(\n",
        "      _mean(col(c)).alias('mean'),\n",
        "      _stddev(col(c)).alias('std')\n",
        "  ).collect()\n",
        "  mean = df_stats[0]['mean']\n",
        "  std = df_stats[0]['std']\n",
        "  mean_d[c] = mean\n",
        "  std_d[c] = std\n",
        "print('stats, mean', mean_d)  \n",
        "print('stats, std', std_d)  \n",
        "df.take(1)\n"
      ],
      "execution_count": null,
      "outputs": [
        {
          "output_type": "display_data",
          "metadata": {
            "application/vnd.databricks.v1+output": {
              "datasetInfos": [
                {
                  "name": "df",
                  "typeStr": "pyspark.sql.dataframe.DataFrame",
                  "schema": {
                    "fields": [
                      {
                        "metadata": {},
                        "name": "artist_hotttness",
                        "nullable": true,
                        "type": "float"
                      },
                      {
                        "metadata": {},
                        "name": "familiarity",
                        "nullable": true,
                        "type": "float"
                      },
                      {
                        "metadata": {},
                        "name": "duration",
                        "nullable": true,
                        "type": "float"
                      },
                      {
                        "metadata": {},
                        "name": "loudness",
                        "nullable": true,
                        "type": "float"
                      },
                      {
                        "metadata": {},
                        "name": "year",
                        "nullable": true,
                        "type": "float"
                      },
                      {
                        "metadata": {},
                        "name": "tempo",
                        "nullable": true,
                        "type": "float"
                      },
                      {
                        "metadata": {},
                        "name": "end_of_fade_in",
                        "nullable": true,
                        "type": "float"
                      },
                      {
                        "metadata": {},
                        "name": "key",
                        "nullable": true,
                        "type": "float"
                      },
                      {
                        "metadata": {},
                        "name": "key_confidence",
                        "nullable": true,
                        "type": "float"
                      },
                      {
                        "metadata": {},
                        "name": "mode",
                        "nullable": true,
                        "type": "float"
                      },
                      {
                        "metadata": {},
                        "name": "mode_confidence",
                        "nullable": true,
                        "type": "float"
                      },
                      {
                        "metadata": {},
                        "name": "start_of_fade_out",
                        "nullable": true,
                        "type": "float"
                      },
                      {
                        "metadata": {},
                        "name": "time_signature",
                        "nullable": true,
                        "type": "float"
                      },
                      {
                        "metadata": {},
                        "name": "time_signature_conf",
                        "nullable": true,
                        "type": "float"
                      },
                      {
                        "metadata": {},
                        "name": " song_hotttness",
                        "nullable": true,
                        "type": "float"
                      }
                    ],
                    "type": "struct"
                  },
                  "tableIdentifier": null
                }
              ],
              "data": "<div class=\"ansiout\">stats, mean {&#39;artist_hotttness&#39;: 0.43388117034068685, &#39;familiarity&#39;: 0.6235659201518956, &#39;duration&#39;: 240.85178067053897, &#39;loudness&#39;: -9.564173712626305, &#39;year&#39;: 1286.2992406264832, &#39;tempo&#39;: 124.52316682079588, &#39;end_of_fade_in&#39;: 0.7636623160863197, &#39;key&#39;: 5.318699572852397, &#39;key_confidence&#39;: 0.45531229276851987, &#39;mode&#39;: 0.6867584242999525, &#39;mode_confidence&#39;: 0.48227361181780065, &#39;start_of_fade_out&#39;: 231.92609038033868, &#39;time_signature&#39;: 3.6203132415757002, &#39;time_signature_conf&#39;: 0.5226803512133898}\nstats, std {&#39;artist_hotttness&#39;: 0.11946690873250566, &#39;familiarity&#39;: 0.14199900226953277, &#39;duration&#39;: 103.11778642149028, &#39;loudness&#39;: 5.035494347324147, &#39;year&#39;: 957.4125385469449, &#39;tempo&#39;: 34.68441346672436, &#39;end_of_fade_in&#39;: 1.8451120729212, &#39;key&#39;: 3.517984261221546, &#39;key_confidence&#39;: 0.2754617854588272, &#39;mode&#39;: 0.46386673976593934, &#39;mode_confidence&#39;: 0.18913623012209935, &#39;start_of_fade_out&#39;: 101.26029429241188, &#39;time_signature&#39;: 1.2156996958214632, &#39;time_signature_conf&#39;: 0.37180108603706813}\nOut[210]: [Row(artist_hotttness=0.38615164160728455, familiarity=0.5574602484703064, duration=148.7407684326172, loudness=-9.63599967956543, year=2008.0, tempo=124.05899810791016, end_of_fade_in=0.19200000166893005, key=0.0, key_confidence=0.5910000205039978, mode=1.0, mode_confidence=0.5559999942779541, start_of_fade_out=141.60699462890625, time_signature=4.0, time_signature_conf=0.3720000088214874,  song_hotttness=0.5479529500007629)]</div>",
              "removedWidgets": [],
              "addedWidgets": {},
              "type": "html",
              "arguments": {}
            }
          },
          "data": {
            "text/html": [
              "<style scoped>\n  .ansiout {\n    display: block;\n    unicode-bidi: embed;\n    white-space: pre-wrap;\n    word-wrap: break-word;\n    word-break: break-all;\n    font-family: \"Source Code Pro\", \"Menlo\", monospace;;\n    font-size: 13px;\n    color: #555;\n    margin-left: 4px;\n    line-height: 19px;\n  }\n</style>\n<div class=\"ansiout\">stats, mean {&#39;artist_hotttness&#39;: 0.43388117034068685, &#39;familiarity&#39;: 0.6235659201518956, &#39;duration&#39;: 240.85178067053897, &#39;loudness&#39;: -9.564173712626305, &#39;year&#39;: 1286.2992406264832, &#39;tempo&#39;: 124.52316682079588, &#39;end_of_fade_in&#39;: 0.7636623160863197, &#39;key&#39;: 5.318699572852397, &#39;key_confidence&#39;: 0.45531229276851987, &#39;mode&#39;: 0.6867584242999525, &#39;mode_confidence&#39;: 0.48227361181780065, &#39;start_of_fade_out&#39;: 231.92609038033868, &#39;time_signature&#39;: 3.6203132415757002, &#39;time_signature_conf&#39;: 0.5226803512133898}\nstats, std {&#39;artist_hotttness&#39;: 0.11946690873250566, &#39;familiarity&#39;: 0.14199900226953277, &#39;duration&#39;: 103.11778642149028, &#39;loudness&#39;: 5.035494347324147, &#39;year&#39;: 957.4125385469449, &#39;tempo&#39;: 34.68441346672436, &#39;end_of_fade_in&#39;: 1.8451120729212, &#39;key&#39;: 3.517984261221546, &#39;key_confidence&#39;: 0.2754617854588272, &#39;mode&#39;: 0.46386673976593934, &#39;mode_confidence&#39;: 0.18913623012209935, &#39;start_of_fade_out&#39;: 101.26029429241188, &#39;time_signature&#39;: 1.2156996958214632, &#39;time_signature_conf&#39;: 0.37180108603706813}\nOut[210]: [Row(artist_hotttness=0.38615164160728455, familiarity=0.5574602484703064, duration=148.7407684326172, loudness=-9.63599967956543, year=2008.0, tempo=124.05899810791016, end_of_fade_in=0.19200000166893005, key=0.0, key_confidence=0.5910000205039978, mode=1.0, mode_confidence=0.5559999942779541, start_of_fade_out=141.60699462890625, time_signature=4.0, time_signature_conf=0.3720000088214874,  song_hotttness=0.5479529500007629)]</div>"
            ]
          }
        }
      ]
    },
    {
      "cell_type": "code",
      "metadata": {
        "application/vnd.databricks.v1+cell": {
          "title": "",
          "showTitle": false,
          "inputWidgets": {},
          "nuid": "112192a0-6ef9-4b6c-8c25-f0c25787ae56"
        },
        "id": "X-oA9dB68_Uw",
        "outputId": "b95fefc6-9eba-429f-c8cf-466337d23540"
      },
      "source": [
        "from pyspark.sql import Row\n",
        "\n",
        "def helpParse(row):\n",
        "  ans = []\n",
        "  counter = 0\n",
        "  for s in row: # take note: each row is an iterable if col items!, row[0] is necessary\n",
        "    if counter < len(row) -1:\n",
        "      name = cn_new[counter]\n",
        "      ans.append((s - mean_d[name])/std_d[name])\n",
        "    else:\n",
        "      ans.append(s)\n",
        "    counter += 1\n",
        "#     ans.append(s)\n",
        "  return Row(label = ans[-1], features = ans[:-1])\n",
        "\n",
        "def parse_points(df):\n",
        "  df2 = (df.rdd.map(lambda row: helpParse(row)).toDF())\n",
        "  return df2\n",
        "\n",
        "parsed_points_df = parse_points(df)\n",
        "parsed_points_df.take(1)"
      ],
      "execution_count": null,
      "outputs": [
        {
          "output_type": "display_data",
          "metadata": {
            "application/vnd.databricks.v1+output": {
              "datasetInfos": [
                {
                  "name": "parsed_points_df",
                  "typeStr": "pyspark.sql.dataframe.DataFrame",
                  "schema": {
                    "fields": [
                      {
                        "metadata": {},
                        "name": "features",
                        "nullable": true,
                        "type": {
                          "containsNull": true,
                          "elementType": "double",
                          "type": "array"
                        }
                      },
                      {
                        "metadata": {},
                        "name": "label",
                        "nullable": true,
                        "type": "double"
                      }
                    ],
                    "type": "struct"
                  },
                  "tableIdentifier": null
                }
              ],
              "data": "<div class=\"ansiout\">Out[211]: [Row(features=[-0.39952091537140116, -0.46553617014936455, -0.8932601778457627, -0.014263935571150623, 0.7538033296167549, -0.013382631173251306, -0.30982525278929435, -1.5118599680731917, 0.4925827642824124, 0.6752835434118533, 0.3898057099507505, -0.8919497655281913, 0.3123195306615099, -0.40527138852111844], label=0.5479529500007629)]</div>",
              "removedWidgets": [],
              "addedWidgets": {},
              "type": "html",
              "arguments": {}
            }
          },
          "data": {
            "text/html": [
              "<style scoped>\n  .ansiout {\n    display: block;\n    unicode-bidi: embed;\n    white-space: pre-wrap;\n    word-wrap: break-word;\n    word-break: break-all;\n    font-family: \"Source Code Pro\", \"Menlo\", monospace;;\n    font-size: 13px;\n    color: #555;\n    margin-left: 4px;\n    line-height: 19px;\n  }\n</style>\n<div class=\"ansiout\">Out[211]: [Row(features=[-0.39952091537140116, -0.46553617014936455, -0.8932601778457627, -0.014263935571150623, 0.7538033296167549, -0.013382631173251306, -0.30982525278929435, -1.5118599680731917, 0.4925827642824124, 0.6752835434118533, 0.3898057099507505, -0.8919497655281913, 0.3123195306615099, -0.40527138852111844], label=0.5479529500007629)]</div>"
            ]
          }
        }
      ]
    },
    {
      "cell_type": "code",
      "metadata": {
        "application/vnd.databricks.v1+cell": {
          "title": "",
          "showTitle": false,
          "inputWidgets": {},
          "nuid": "a668901f-552c-4c38-8d83-e1db9c88263b"
        },
        "id": "suYw41aZ8_Ux",
        "outputId": "572b4e32-3752-46e2-85c7-47876f4ddda3"
      },
      "source": [
        "parsed_data_df = parsed_points_df.select(parsed_points_df.features, parsed_points_df.label)"
      ],
      "execution_count": null,
      "outputs": [
        {
          "output_type": "display_data",
          "metadata": {
            "application/vnd.databricks.v1+output": {
              "datasetInfos": [
                {
                  "name": "parsed_data_df",
                  "typeStr": "pyspark.sql.dataframe.DataFrame",
                  "schema": {
                    "fields": [
                      {
                        "metadata": {},
                        "name": "features",
                        "nullable": true,
                        "type": {
                          "containsNull": true,
                          "elementType": "double",
                          "type": "array"
                        }
                      },
                      {
                        "metadata": {},
                        "name": "label",
                        "nullable": true,
                        "type": "double"
                      }
                    ],
                    "type": "struct"
                  },
                  "tableIdentifier": null
                }
              ],
              "data": "<div class=\"ansiout\"></div>",
              "removedWidgets": [],
              "addedWidgets": {},
              "type": "html",
              "arguments": {}
            }
          },
          "data": {
            "text/html": [
              "<style scoped>\n  .ansiout {\n    display: block;\n    unicode-bidi: embed;\n    white-space: pre-wrap;\n    word-wrap: break-word;\n    word-break: break-all;\n    font-family: \"Source Code Pro\", \"Menlo\", monospace;;\n    font-size: 13px;\n    color: #555;\n    margin-left: 4px;\n    line-height: 19px;\n  }\n</style>\n<div class=\"ansiout\"></div>"
            ]
          }
        }
      ]
    },
    {
      "cell_type": "code",
      "metadata": {
        "application/vnd.databricks.v1+cell": {
          "title": "",
          "showTitle": false,
          "inputWidgets": {},
          "nuid": "52ee1750-7424-490f-a8ae-c93880212789"
        },
        "id": "1nkW6lCb8_Uy",
        "outputId": "05e3f7a5-55e0-4ab4-ee92-f037e3f7c12d"
      },
      "source": [
        "from pyspark.mllib.regression import LabeledPoint\n",
        "import numpy as np\n",
        "weights = [.8, .1, .1]\n",
        "seed = 42\n",
        "parsed_train_data_df, parsed_val_data_df, parsed_test_data_df = parsed_data_df.randomSplit(weights, seed)\n",
        "parsed_train_data_df.cache()\n",
        "parsed_val_data_df.cache()\n",
        "parsed_test_data_df.cache()\n",
        "n_train = parsed_train_data_df.count()\n",
        "n_val = parsed_val_data_df.count()\n",
        "n_test = parsed_test_data_df.count()\n",
        "\n",
        "\n",
        "# YOUR CODE HERE\n",
        "# raise NotImplementedError()\n",
        "\n",
        "print (n_train, n_val, n_test, n_train + n_val + n_test)\n",
        "print (parsed_data_df.count())"
      ],
      "execution_count": null,
      "outputs": [
        {
          "output_type": "display_data",
          "metadata": {
            "application/vnd.databricks.v1+output": {
              "datasetInfos": [
                {
                  "name": "parsed_train_data_df",
                  "typeStr": "pyspark.sql.dataframe.DataFrame",
                  "schema": {
                    "fields": [
                      {
                        "metadata": {},
                        "name": "features",
                        "nullable": true,
                        "type": {
                          "containsNull": true,
                          "elementType": "double",
                          "type": "array"
                        }
                      },
                      {
                        "metadata": {},
                        "name": "label",
                        "nullable": true,
                        "type": "double"
                      }
                    ],
                    "type": "struct"
                  },
                  "tableIdentifier": null
                },
                {
                  "name": "parsed_val_data_df",
                  "typeStr": "pyspark.sql.dataframe.DataFrame",
                  "schema": {
                    "fields": [
                      {
                        "metadata": {},
                        "name": "features",
                        "nullable": true,
                        "type": {
                          "containsNull": true,
                          "elementType": "double",
                          "type": "array"
                        }
                      },
                      {
                        "metadata": {},
                        "name": "label",
                        "nullable": true,
                        "type": "double"
                      }
                    ],
                    "type": "struct"
                  },
                  "tableIdentifier": null
                },
                {
                  "name": "parsed_test_data_df",
                  "typeStr": "pyspark.sql.dataframe.DataFrame",
                  "schema": {
                    "fields": [
                      {
                        "metadata": {},
                        "name": "features",
                        "nullable": true,
                        "type": {
                          "containsNull": true,
                          "elementType": "double",
                          "type": "array"
                        }
                      },
                      {
                        "metadata": {},
                        "name": "label",
                        "nullable": true,
                        "type": "double"
                      }
                    ],
                    "type": "struct"
                  },
                  "tableIdentifier": null
                }
              ],
              "data": "<div class=\"ansiout\">3411 397 406 4214\n4214\n</div>",
              "removedWidgets": [],
              "addedWidgets": {},
              "type": "html",
              "arguments": {}
            }
          },
          "data": {
            "text/html": [
              "<style scoped>\n  .ansiout {\n    display: block;\n    unicode-bidi: embed;\n    white-space: pre-wrap;\n    word-wrap: break-word;\n    word-break: break-all;\n    font-family: \"Source Code Pro\", \"Menlo\", monospace;;\n    font-size: 13px;\n    color: #555;\n    margin-left: 4px;\n    line-height: 19px;\n  }\n</style>\n<div class=\"ansiout\">3411 397 406 4214\n4214\n</div>"
            ]
          }
        }
      ]
    },
    {
      "cell_type": "code",
      "metadata": {
        "application/vnd.databricks.v1+cell": {
          "title": "",
          "showTitle": false,
          "inputWidgets": {},
          "nuid": "d49d6c94-3851-4822-ac9b-f678f93b05c8"
        },
        "id": "G1RVgcCw8_U0",
        "outputId": "5e9dd68b-ac43-4f44-c563-d86ab405926c"
      },
      "source": [
        "# Create and evaluate a baseline model\n",
        "average_train_hotttness = (parsed_train_data_df\n",
        "                        .selectExpr('mean(label)')).collect()[0][0] # take note: 1st [0] to get the row, and 2nd [0] index into the row\n",
        "print(average_train_hotttness)"
      ],
      "execution_count": null,
      "outputs": [
        {
          "output_type": "display_data",
          "metadata": {
            "application/vnd.databricks.v1+output": {
              "datasetInfos": [],
              "data": "<div class=\"ansiout\">0.45858138956498695\n</div>",
              "removedWidgets": [],
              "addedWidgets": {},
              "type": "html",
              "arguments": {}
            }
          },
          "data": {
            "text/html": [
              "<style scoped>\n  .ansiout {\n    display: block;\n    unicode-bidi: embed;\n    white-space: pre-wrap;\n    word-wrap: break-word;\n    word-break: break-all;\n    font-family: \"Source Code Pro\", \"Menlo\", monospace;;\n    font-size: 13px;\n    color: #555;\n    margin-left: 4px;\n    line-height: 19px;\n  }\n</style>\n<div class=\"ansiout\">0.45858138956498695\n</div>"
            ]
          }
        }
      ]
    },
    {
      "cell_type": "code",
      "metadata": {
        "application/vnd.databricks.v1+cell": {
          "title": "",
          "showTitle": false,
          "inputWidgets": {},
          "nuid": "8053a6e2-17a0-46a0-b0e9-f72f73092b3d"
        },
        "id": "0OhsGRjE8_U1",
        "outputId": "1af7d5b2-a33c-43f7-c871-8bf042078a3c"
      },
      "source": [
        "from pyspark.ml.evaluation import RegressionEvaluator\n",
        "\n",
        "preds_and_labels = [(1., 3.), (2., 1.), (2., 2.)]\n",
        "preds_and_labels_df = sqlContext.createDataFrame(preds_and_labels, [\"prediction\", \"label\"]) # take note: record this\n",
        "\n",
        "# RegressionEvaluator(predictionCol='prediction', labelCol='label', metricName='rmse', weightCol=None, throughOrigin=False)\n",
        "evaluator = RegressionEvaluator(predictionCol='prediction', labelCol='label', metricName='rmse')\n",
        "# YOUR CODE HERE\n",
        "# raise NotImplementedError()\n",
        "\n",
        "def calc_RMSE(dataset):\n",
        "    \"\"\"Calculates the root mean squared error for an dataset of (prediction, label) tuples.\n",
        "\n",
        "    Args:\n",
        "        dataset (DataFrame of (float, float)): A `DataFrame` consisting of (prediction, label) tuples.\n",
        "\n",
        "    Returns:\n",
        "        float: The square root of the mean of the squared errors.\n",
        "    \"\"\"\n",
        "    return evaluator.evaluate(dataset)\n",
        "example_rmse = calc_RMSE(preds_and_labels_df)\n",
        "print (example_rmse)"
      ],
      "execution_count": null,
      "outputs": [
        {
          "output_type": "display_data",
          "metadata": {
            "application/vnd.databricks.v1+output": {
              "datasetInfos": [
                {
                  "name": "preds_and_labels_df",
                  "typeStr": "pyspark.sql.dataframe.DataFrame",
                  "schema": {
                    "fields": [
                      {
                        "metadata": {},
                        "name": "prediction",
                        "nullable": true,
                        "type": "double"
                      },
                      {
                        "metadata": {},
                        "name": "label",
                        "nullable": true,
                        "type": "double"
                      }
                    ],
                    "type": "struct"
                  },
                  "tableIdentifier": null
                }
              ],
              "data": "<div class=\"ansiout\">1.2909944487358058\n</div>",
              "removedWidgets": [],
              "addedWidgets": {},
              "type": "html",
              "arguments": {}
            }
          },
          "data": {
            "text/html": [
              "<style scoped>\n  .ansiout {\n    display: block;\n    unicode-bidi: embed;\n    white-space: pre-wrap;\n    word-wrap: break-word;\n    word-break: break-all;\n    font-family: \"Source Code Pro\", \"Menlo\", monospace;;\n    font-size: 13px;\n    color: #555;\n    margin-left: 4px;\n    line-height: 19px;\n  }\n</style>\n<div class=\"ansiout\">1.2909944487358058\n</div>"
            ]
          }
        }
      ]
    },
    {
      "cell_type": "code",
      "metadata": {
        "application/vnd.databricks.v1+cell": {
          "title": "",
          "showTitle": false,
          "inputWidgets": {},
          "nuid": "04dc096b-dd78-4a3a-b925-4fbe6326d923"
        },
        "id": "J061l6Vb8_U2",
        "outputId": "0c69d47b-a443-427c-ae83-1ae7d720e2d2"
      },
      "source": [
        "# Training, validation and test RMSE\n",
        "# print(parsed_train_data_df.rdd.map(lambda row: [average_train_hotttnesss, row[1]]).take(1))\n",
        "preds_and_labels_train = parsed_train_data_df.rdd.map(lambda row: [average_train_hotttness, row[1]])\n",
        "\n",
        "preds_and_labels_train_df = sqlContext.createDataFrame(preds_and_labels_train, [\"prediction\", \"label\"])\n",
        "rmse_train_base = calc_RMSE(preds_and_labels_train_df)\n",
        "\n",
        "preds_and_labels_val = parsed_val_data_df.rdd.map(lambda row: [average_train_hotttness, row[1]])\n",
        "preds_and_labels_val_df = sqlContext.createDataFrame(preds_and_labels_val, [\"prediction\", \"label\"])\n",
        "rmse_val_base = calc_RMSE(preds_and_labels_val_df)\n",
        "\n",
        "preds_and_labels_test = parsed_test_data_df.rdd.map(lambda row: [average_train_hotttness, row[1]])\n",
        "preds_and_labels_test_df = sqlContext.createDataFrame(preds_and_labels_test, [\"prediction\", \"label\"])\n",
        "rmse_test_base = calc_RMSE(preds_and_labels_test_df)\n",
        "\n",
        "\n",
        "\n",
        "# YOUR CODE HERE\n",
        "# raise NotImplementedError()\n",
        "\n",
        "print ('Baseline Train RMSE = {0:.3f}'.format(rmse_train_base))\n",
        "print ('Baseline Validation RMSE = {0:.3f}'.format(rmse_val_base))\n",
        "print ('Baseline Test RMSE = {0:.3f}'.format(rmse_test_base))"
      ],
      "execution_count": null,
      "outputs": [
        {
          "output_type": "display_data",
          "metadata": {
            "application/vnd.databricks.v1+output": {
              "datasetInfos": [
                {
                  "name": "preds_and_labels_train_df",
                  "typeStr": "pyspark.sql.dataframe.DataFrame",
                  "schema": {
                    "fields": [
                      {
                        "metadata": {},
                        "name": "prediction",
                        "nullable": true,
                        "type": "double"
                      },
                      {
                        "metadata": {},
                        "name": "label",
                        "nullable": true,
                        "type": "double"
                      }
                    ],
                    "type": "struct"
                  },
                  "tableIdentifier": null
                },
                {
                  "name": "preds_and_labels_val_df",
                  "typeStr": "pyspark.sql.dataframe.DataFrame",
                  "schema": {
                    "fields": [
                      {
                        "metadata": {},
                        "name": "prediction",
                        "nullable": true,
                        "type": "double"
                      },
                      {
                        "metadata": {},
                        "name": "label",
                        "nullable": true,
                        "type": "double"
                      }
                    ],
                    "type": "struct"
                  },
                  "tableIdentifier": null
                },
                {
                  "name": "preds_and_labels_test_df",
                  "typeStr": "pyspark.sql.dataframe.DataFrame",
                  "schema": {
                    "fields": [
                      {
                        "metadata": {},
                        "name": "prediction",
                        "nullable": true,
                        "type": "double"
                      },
                      {
                        "metadata": {},
                        "name": "label",
                        "nullable": true,
                        "type": "double"
                      }
                    ],
                    "type": "struct"
                  },
                  "tableIdentifier": null
                }
              ],
              "data": "<div class=\"ansiout\">Baseline Train RMSE = 0.169\nBaseline Validation RMSE = 0.170\nBaseline Test RMSE = 0.159\n</div>",
              "removedWidgets": [],
              "addedWidgets": {},
              "type": "html",
              "arguments": {}
            }
          },
          "data": {
            "text/html": [
              "<style scoped>\n  .ansiout {\n    display: block;\n    unicode-bidi: embed;\n    white-space: pre-wrap;\n    word-wrap: break-word;\n    word-break: break-all;\n    font-family: \"Source Code Pro\", \"Menlo\", monospace;;\n    font-size: 13px;\n    color: #555;\n    margin-left: 4px;\n    line-height: 19px;\n  }\n</style>\n<div class=\"ansiout\">Baseline Train RMSE = 0.169\nBaseline Validation RMSE = 0.170\nBaseline Test RMSE = 0.159\n</div>"
            ]
          }
        }
      ]
    },
    {
      "cell_type": "code",
      "metadata": {
        "application/vnd.databricks.v1+cell": {
          "title": "",
          "showTitle": false,
          "inputWidgets": {},
          "nuid": "a78e775c-e9d7-4925-b81b-164b860e876f"
        },
        "id": "JBlreWOV8_U2",
        "outputId": "1b28a6fc-fdd2-45b1-83ee-5b3674befcdc"
      },
      "source": [
        "from matplotlib.colors import ListedColormap, Normalize\n",
        "from matplotlib.cm import get_cmap\n",
        "from matplotlib import pyplot as plt\n",
        "cmap = get_cmap('YlOrRd')\n",
        "norm = Normalize()\n",
        "def prepare_plot(xticks, yticks, figsize=(10.5, 6), hideLabels=False, gridColor='#999999',\n",
        "                 gridWidth=1.0):\n",
        "    \"\"\"Template for generating the plot layout.\"\"\"\n",
        "    plt.close()\n",
        "    fig, ax = plt.subplots(figsize=figsize, facecolor='white', edgecolor='white')\n",
        "    ax.axes.tick_params(labelcolor='#999999', labelsize='10')\n",
        "    for axis, ticks in [(ax.get_xaxis(), xticks), (ax.get_yaxis(), yticks)]:\n",
        "        axis.set_ticks_position('none')\n",
        "        axis.set_ticks(ticks)\n",
        "        axis.label.set_color('#999999')\n",
        "        if hideLabels: axis.set_ticklabels([])\n",
        "    plt.grid(color=gridColor, linewidth=gridWidth, linestyle='-')\n",
        "    map(lambda position: ax.spines[position].set_visible(False), ['bottom', 'top', 'left', 'right'])\n",
        "    return fig, ax\n",
        "def squared_error(lp):\n",
        "    \"\"\"Calculates the squared error for a single prediction.\"\"\"\n",
        "    label, prediction = lp\n",
        "    return float((label - prediction)**2)\n",
        "\n",
        "actual = np.asarray(parsed_val_data_df\n",
        "                    .select('label')\n",
        "                    .collect())\n",
        "error = np.asarray(parsed_val_data_df\n",
        "                   .rdd\n",
        "                   .map(lambda lp: (lp.label, lp.label))\n",
        "                   .map(lambda lp: squared_error(lp))\n",
        "                   .collect())\n",
        "clrs = cmap(np.asarray(norm(error)))[:,0:3]\n",
        "\n",
        "fig, ax = prepare_plot(np.arange(0, 100, 20), np.arange(0, 100, 20))\n",
        "plt.scatter(actual, actual, s=14**2, c=clrs, edgecolors='#888888', alpha=0.75, linewidths=0.5)\n",
        "ax.set_xlabel('Predicted'), ax.set_ylabel('Actual')\n",
        "display(fig)"
      ],
      "execution_count": null,
      "outputs": [
        {
          "output_type": "display_data",
          "metadata": {
            "application/vnd.databricks.v1+output": {
              "datasetInfos": [],
              "data": "/plots/24e801ee-1612-4f3c-a930-40d1df3f2879.png",
              "removedWidgets": [],
              "addedWidgets": {},
              "type": "image",
              "arguments": {}
            }
          },
          "data": {
            "image/png": "[encoded data removed]"
          }
        }
      ]
    },
    {
      "cell_type": "code",
      "metadata": {
        "application/vnd.databricks.v1+cell": {
          "title": "",
          "showTitle": false,
          "inputWidgets": {},
          "nuid": "2ce2f346-0ca8-4ece-b42d-6414c8ab8379"
        },
        "id": "iQrGtw9l8_U3",
        "outputId": "9731efee-2e22-44cc-815a-a41a9b51e5e5"
      },
      "source": [
        "\n",
        "predictions = np.asarray(parsed_val_data_df\n",
        "                         .rdd\n",
        "                         .map(lambda lp: average_train_hotttness)\n",
        "                         .collect())\n",
        "error = np.asarray(parsed_val_data_df\n",
        "                   .rdd\n",
        "                   .map(lambda lp: (lp.label, average_train_hotttness))\n",
        "                   .map(lambda lp: squared_error(lp))\n",
        "                   .collect())\n",
        "norm = Normalize()\n",
        "clrs = cmap(np.asarray(norm(error)))[:,0:3]\n",
        "\n",
        "fig, ax = prepare_plot(np.arange(0, 1, 0.1), np.arange(0, 1, 0.1))\n",
        "# ax.set_xlim(53, 55)\n",
        "plt.scatter(predictions, actual, s=14**2, c=clrs, edgecolors='#888888', alpha=0.75, linewidths=0.3)\n",
        "ax.set_xlabel('Predicted'), ax.set_ylabel('Actual')\n",
        "display(fig)"
      ],
      "execution_count": null,
      "outputs": [
        {
          "output_type": "display_data",
          "metadata": {
            "application/vnd.databricks.v1+output": {
              "datasetInfos": [],
              "data": "/plots/d0456967-d9b9-4b11-b099-101f95f0ff7b.png",
              "removedWidgets": [],
              "addedWidgets": {},
              "type": "image",
              "arguments": {}
            }
          },
          "data": {
            "image/png": "[encoded data removed]"
          }
        }
      ]
    },
    {
      "cell_type": "code",
      "metadata": {
        "application/vnd.databricks.v1+cell": {
          "title": "",
          "showTitle": false,
          "inputWidgets": {},
          "nuid": "732ca6cf-ab35-4396-b283-0f368a156c49"
        },
        "id": "ph50yH428_U4",
        "outputId": "1d7a2e69-7872-4a4a-aa8d-89b16a8344a7"
      },
      "source": [
        "# Train using SparkML and perform grid search\n",
        "from pyspark.mllib.regression import LinearRegressionWithSGD\n",
        "# Values to use when training the linear regression model\n",
        "numIters = 500  # iterations\n",
        "alpha = 1.0  # step\n",
        "miniBatchFrac = 1.0  # miniBatchFraction\n",
        "reg = 1e-1  # regParam\n",
        "regType = 'l2'  # regType\n",
        "useIntercept = True  # intercept"
      ],
      "execution_count": null,
      "outputs": [
        {
          "output_type": "display_data",
          "metadata": {
            "application/vnd.databricks.v1+output": {
              "datasetInfos": [],
              "data": "<div class=\"ansiout\"></div>",
              "removedWidgets": [],
              "addedWidgets": {},
              "type": "html",
              "arguments": {}
            }
          },
          "data": {
            "text/html": [
              "<style scoped>\n  .ansiout {\n    display: block;\n    unicode-bidi: embed;\n    white-space: pre-wrap;\n    word-wrap: break-word;\n    word-break: break-all;\n    font-family: \"Source Code Pro\", \"Menlo\", monospace;;\n    font-size: 13px;\n    color: #555;\n    margin-left: 4px;\n    line-height: 19px;\n  }\n</style>\n<div class=\"ansiout\"></div>"
            ]
          }
        }
      ]
    },
    {
      "cell_type": "code",
      "metadata": {
        "application/vnd.databricks.v1+cell": {
          "title": "",
          "showTitle": false,
          "inputWidgets": {},
          "nuid": "31550ea6-9f24-4429-8b40-8a766268158b"
        },
        "id": "fT3s9u7M8_U4",
        "outputId": "de507a89-a263-4d42-e52f-233c2cb2e5b6"
      },
      "source": [
        "# TODO: Uncomment the following lines and replace <FILL IN> with appropriate code\n",
        "\n",
        "# The data parameter takes in the training data that is an RDD of LabeledPoint. \n",
        "# You may want to transform parsed_train_data_df to required type via map.\n",
        "first_model = LinearRegressionWithSGD.train(data=parsed_train_data_df.rdd\n",
        "                 .map(lambda lp: LabeledPoint(lp.label, lp.features)), \n",
        "                                           iterations=numIters, \n",
        "                                           step=alpha, \n",
        "                                           miniBatchFraction=miniBatchFrac, \n",
        "                                           initialWeights=None, \n",
        "                                           regParam=reg, \n",
        "                                           regType=regType, \n",
        "                                           intercept=useIntercept)\n",
        "\n",
        "# coeffsLR1 stores the model coefficients; interceptLR1 stores the model intercept\n",
        "coeffs_LR1 = first_model.weights\n",
        "intercept_LR1 = first_model.intercept\n",
        "print (coeffs_LR1, intercept_LR1)\n",
        "\n",
        "\n",
        "# YOUR CODE HERE\n",
        "# raise NotImplementedError()\n"
      ],
      "execution_count": null,
      "outputs": [
        {
          "output_type": "display_data",
          "metadata": {
            "application/vnd.databricks.v1+output": {
              "datasetInfos": [],
              "data": "<div class=\"ansiout\">[0.03717729460540631,0.04059737522211379,0.0017018268675971322,0.01245564475305384,0.03133144731494264,0.004105646832913381,-0.0012549172352716077,-0.0022741533920990673,-0.0007683689673192639,-0.0034784834314056517,0.0013362160034377426,0.0007044040678886105,0.002450041675671607,-0.0009813888871299504] 0.4164306238688236\n</div>",
              "removedWidgets": [],
              "addedWidgets": {},
              "type": "html",
              "arguments": {}
            }
          },
          "data": {
            "text/html": [
              "<style scoped>\n  .ansiout {\n    display: block;\n    unicode-bidi: embed;\n    white-space: pre-wrap;\n    word-wrap: break-word;\n    word-break: break-all;\n    font-family: \"Source Code Pro\", \"Menlo\", monospace;;\n    font-size: 13px;\n    color: #555;\n    margin-left: 4px;\n    line-height: 19px;\n  }\n</style>\n<div class=\"ansiout\">[0.03717729460540631,0.04059737522211379,0.0017018268675971322,0.01245564475305384,0.03133144731494264,0.004105646832913381,-0.0012549172352716077,-0.0022741533920990673,-0.0007683689673192639,-0.0034784834314056517,0.0013362160034377426,0.0007044040678886105,0.002450041675671607,-0.0009813888871299504] 0.4164306238688236\n</div>"
            ]
          }
        }
      ]
    },
    {
      "cell_type": "code",
      "metadata": {
        "application/vnd.databricks.v1+cell": {
          "title": "",
          "showTitle": false,
          "inputWidgets": {},
          "nuid": "133af6f0-1f15-4c59-82a0-fe9e3c53d244"
        },
        "id": "7a24L_pN8_U5",
        "outputId": "8d66cbab-6382-4fc3-de31-7971f8495be3"
      },
      "source": [
        "# prediction\n",
        "samplePoint = parsed_train_data_df.take(1)[0]\n",
        "sample_prediction = first_model.predict(samplePoint.features)\n",
        "print (sample_prediction)"
      ],
      "execution_count": null,
      "outputs": [
        {
          "output_type": "display_data",
          "metadata": {
            "application/vnd.databricks.v1+output": {
              "datasetInfos": [],
              "data": "<div class=\"ansiout\">0.04188494365143136\n</div>",
              "removedWidgets": [],
              "addedWidgets": {},
              "type": "html",
              "arguments": {}
            }
          },
          "data": {
            "text/html": [
              "<style scoped>\n  .ansiout {\n    display: block;\n    unicode-bidi: embed;\n    white-space: pre-wrap;\n    word-wrap: break-word;\n    word-break: break-all;\n    font-family: \"Source Code Pro\", \"Menlo\", monospace;;\n    font-size: 13px;\n    color: #555;\n    margin-left: 4px;\n    line-height: 19px;\n  }\n</style>\n<div class=\"ansiout\">0.04188494365143136\n</div>"
            ]
          }
        }
      ]
    },
    {
      "cell_type": "code",
      "metadata": {
        "application/vnd.databricks.v1+cell": {
          "title": "",
          "showTitle": false,
          "inputWidgets": {},
          "nuid": "d594e909-9244-4a03-8d8c-4421198c9d33"
        },
        "id": "PS4XYXlQ8_U5",
        "outputId": "9e8b5ff4-346c-4b8d-f4f9-22588c8a15ee"
      },
      "source": [
        "labels_and_preds = parsed_val_data_df.rdd.map(lambda lp: (lp.label, float(first_model.predict(lp.features))))\n",
        "    \n",
        "labels_and_preds_df = sqlContext.createDataFrame(labels_and_preds, [\"label\", \"prediction\"])\n",
        "\n",
        "rmse_val_LR1 = calc_RMSE(labels_and_preds_df)\n",
        "\n",
        "# YOUR CODE HERE\n",
        "# raise NotImplementedError()\n",
        "\n",
        "\n",
        "print(rmse_val_LR1)"
      ],
      "execution_count": null,
      "outputs": [
        {
          "output_type": "display_data",
          "metadata": {
            "application/vnd.databricks.v1+output": {
              "datasetInfos": [
                {
                  "name": "labels_and_preds_df",
                  "typeStr": "pyspark.sql.dataframe.DataFrame",
                  "schema": {
                    "fields": [
                      {
                        "metadata": {},
                        "name": "label",
                        "nullable": true,
                        "type": "double"
                      },
                      {
                        "metadata": {},
                        "name": "prediction",
                        "nullable": true,
                        "type": "double"
                      }
                    ],
                    "type": "struct"
                  },
                  "tableIdentifier": null
                }
              ],
              "data": "<div class=\"ansiout\">0.14744312015336125\n</div>",
              "removedWidgets": [],
              "addedWidgets": {},
              "type": "html",
              "arguments": {}
            }
          },
          "data": {
            "text/html": [
              "<style scoped>\n  .ansiout {\n    display: block;\n    unicode-bidi: embed;\n    white-space: pre-wrap;\n    word-wrap: break-word;\n    word-break: break-all;\n    font-family: \"Source Code Pro\", \"Menlo\", monospace;;\n    font-size: 13px;\n    color: #555;\n    margin-left: 4px;\n    line-height: 19px;\n  }\n</style>\n<div class=\"ansiout\">0.14744312015336125\n</div>"
            ]
          }
        }
      ]
    },
    {
      "cell_type": "code",
      "metadata": {
        "application/vnd.databricks.v1+cell": {
          "title": "",
          "showTitle": false,
          "inputWidgets": {},
          "nuid": "768f02e5-0622-4734-92f5-f625bf8395fe"
        },
        "id": "NdyPF_PM8_U6",
        "outputId": "1065aee2-046c-4b9b-a9cf-6321d457504a"
      },
      "source": [
        "# grid search\n",
        "# TODO: Uncomment the following lines and replace <FILL IN> with appropriate code\n",
        "best_RMSE = rmse_val_LR1\n",
        "best_reg_param = reg\n",
        "best_model = first_model\n",
        "regType = 'l2'  # regType\n",
        "useIntercept = True  # intercept\n",
        "num_iters = 500  # iterations\n",
        "alpha = 1.0 # step\n",
        "miniBatchFrac = 1.0\n",
        "\n",
        "for reg in [1e-10, 1e-5, 1.0]:\n",
        "    model = LinearRegressionWithSGD.train(data = parsed_train_data_df.rdd\n",
        "                                         .map(lambda lp: LabeledPoint(lp.label, lp.features)),\n",
        "                                         iterations=numIters,\n",
        "                                         step=alpha,\n",
        "                                         miniBatchFraction=miniBatchFrac,\n",
        "                                         initialWeights=None,\n",
        "                                         regParam=reg,\n",
        "                                         regType=regType,\n",
        "                                         intercept=useIntercept)\n",
        "    labels_and_preds = parsed_val_data_df.rdd.map(lambda lp: (lp.label, float(model.predict(lp.features))))\n",
        "    \n",
        "    labels_and_preds_df = sqlContext.createDataFrame(labels_and_preds, [\"label\", \"prediction\"])\n",
        "    rmse_val_grid = calc_RMSE(labels_and_preds_df)\n",
        "    print (rmse_val_grid)\n",
        "\n",
        "    if rmse_val_grid < best_RMSE:\n",
        "        best_RMSE = rmse_val_grid\n",
        "        best_reg_param = reg\n",
        "        best_model = model\n",
        "\n",
        "rmse_val_LR_grid = best_RMSE\n",
        "\n",
        "print (('Validation RMSE:\\n\\tBaseline = {0:.3f}\\n\\t\\n\\tLR1 = {1:.3f}\\n' +\n",
        "       '\\tLRGrid = {2:.3f}').format(rmse_val_base, rmse_val_LR1, rmse_val_LR_grid))\n",
        "\n",
        "# YOUR CODE HERE\n",
        "# raise NotImplementedError()\n"
      ],
      "execution_count": null,
      "outputs": [
        {
          "output_type": "display_data",
          "metadata": {
            "application/vnd.databricks.v1+output": {
              "datasetInfos": [
                {
                  "name": "labels_and_preds_df",
                  "typeStr": "pyspark.sql.dataframe.DataFrame",
                  "schema": {
                    "fields": [
                      {
                        "metadata": {},
                        "name": "label",
                        "nullable": true,
                        "type": "double"
                      },
                      {
                        "metadata": {},
                        "name": "prediction",
                        "nullable": true,
                        "type": "double"
                      }
                    ],
                    "type": "struct"
                  },
                  "tableIdentifier": null
                }
              ],
              "data": "<div class=\"ansiout\">0.1394083000775679\n0.13940849178438963\n0.2758058623034964\nValidation RMSE:\n\tBaseline = 0.170\n\t\n\tLR1 = 0.147\n\tLRGrid = 0.139\n</div>",
              "removedWidgets": [],
              "addedWidgets": {},
              "type": "html",
              "arguments": {}
            }
          },
          "data": {
            "text/html": [
              "<style scoped>\n  .ansiout {\n    display: block;\n    unicode-bidi: embed;\n    white-space: pre-wrap;\n    word-wrap: break-word;\n    word-break: break-all;\n    font-family: \"Source Code Pro\", \"Menlo\", monospace;;\n    font-size: 13px;\n    color: #555;\n    margin-left: 4px;\n    line-height: 19px;\n  }\n</style>\n<div class=\"ansiout\">0.1394083000775679\n0.13940849178438963\n0.2758058623034964\nValidation RMSE:\n\tBaseline = 0.170\n\t\n\tLR1 = 0.147\n\tLRGrid = 0.139\n</div>"
            ]
          }
        }
      ]
    },
    {
      "cell_type": "code",
      "metadata": {
        "application/vnd.databricks.v1+cell": {
          "title": "",
          "showTitle": false,
          "inputWidgets": {},
          "nuid": "7838251e-4f68-4772-b8ab-4bb52ae424c1"
        },
        "id": "NXPxLdip8_U7",
        "outputId": "41cd0dc6-75d3-476d-9c07-4870b9b4ad19"
      },
      "source": [
        "# best model's prediction\n",
        "predictions = np.asarray(parsed_val_data_df.rdd\n",
        "                         .map(lambda lp: best_model.predict(lp.features))\n",
        "                         .collect())\n",
        "actual = np.asarray(parsed_val_data_df.rdd\n",
        "                    .map(lambda lp: lp.label)\n",
        "                    .collect())\n",
        "error = np.asarray(parsed_val_data_df.rdd\n",
        "                   .map(lambda lp: (lp.label, best_model.predict(lp.features)))\n",
        "                   .map( lambda lp: squared_error(lp))\n",
        "                   .collect())\n",
        "\n",
        "norm = Normalize()\n",
        "clrs = cmap(np.asarray(norm(error)))[:,0:3]\n",
        "\n",
        "fig, ax = prepare_plot(np.arange(0,1,0.1), np.arange(0,1,0.1))\n",
        "# ax.set_xlim(15, 82), ax.set_ylim(-5, 105)\n",
        "plt.scatter(predictions, actual, s=14**2, c=clrs, edgecolors='#888888', alpha=0.75, linewidths=.5)\n",
        "ax.set_xlabel('Predicted'), ax.set_ylabel(r'Actual')\n",
        "display(fig) \n",
        "pass\n",
        "\n"
      ],
      "execution_count": null,
      "outputs": [
        {
          "output_type": "display_data",
          "metadata": {
            "application/vnd.databricks.v1+output": {
              "datasetInfos": [],
              "data": "/plots/84db0f7a-7ceb-472e-a173-a66de38831c2.png",
              "removedWidgets": [],
              "addedWidgets": {},
              "type": "image",
              "arguments": {}
            }
          },
          "data": {
            "image/png": "[encoded data removed]"
          }
        }
      ]
    },
    {
      "cell_type": "code",
      "metadata": {
        "application/vnd.databricks.v1+cell": {
          "title": "",
          "showTitle": false,
          "inputWidgets": {},
          "nuid": "8f12fc93-4155-4ce5-bc81-aa71286d2b50"
        },
        "id": "2ZOqbizq8_U8",
        "outputId": "35f513c6-d48d-4796-d55f-cc37e1212043"
      },
      "source": [
        "# add interaction\n",
        "# TODO: Uncomment the following lines and replace <FILL IN> with appropriate code\n",
        "import itertools\n",
        "\n",
        "def two_way_interactions(lp):\n",
        "    \"\"\"Creates a new `LabeledPoint` that includes two-way interactions.\n",
        "\n",
        "    Note:\n",
        "        For features [x, y] the two-way interactions would be [x^2, x*y, y*x, y^2] and these\n",
        "        would be appended to the original [x, y] feature list.\n",
        "\n",
        "    Args:\n",
        "        lp (LabeledPoint): The label and features for this observation.\n",
        "\n",
        "    Returns:\n",
        "        LabeledPoint: The new `LabeledPoint` should have the same label as `lp`.  Its features\n",
        "            should include the features from `lp` followed by the two-way interaction features.\n",
        "    \"\"\"\n",
        "    label = lp.label\n",
        "    old_features = lp.features\n",
        "    interactions = itertools.product(old_features, old_features)\n",
        "    inter_features = [itr[0]*itr[1] for itr in interactions]\n",
        "    features = np.hstack((old_features, inter_features))\n",
        "    \n",
        "    return LabeledPoint(label, features)\n",
        "    # YOUR CODE HERE\n",
        "#     raise NotImplementedError()\n",
        "\n",
        "print(two_way_interactions(LabeledPoint(0.0, [2, 3])))\n",
        "tmp = parsed_train_data_df.rdd.take(1)[0]\n",
        "print(tmp)\n",
        "print(type(two_way_interactions(LabeledPoint(tmp.label, tmp.features)).features.toArray()))\n",
        "\n",
        "\n",
        "# Transform the existing train, validation, and test sets to include two-way interactions.\n",
        "# Remember to convert them back to DataFrames at the end.\n",
        "# take note, job aborted due to stage failure: possible reason: wrong function name used in map, forgot to add [], w\n",
        "train_data_interact_df = parsed_train_data_df.rdd.map(lambda row: Row(label = two_way_interactions(LabeledPoint(row.label, row.features)).label, features = two_way_interactions(LabeledPoint(row.label, row.features)).features)).toDF()\n",
        "\n",
        "val_data_interact_df = parsed_val_data_df.rdd.map(lambda row: Row(label = two_way_interactions(LabeledPoint(row.label, row.features)).label, features = two_way_interactions(LabeledPoint(row.label, row.features)).features)).toDF()\n",
        "\n",
        "test_data_interact_df = parsed_test_data_df.rdd.map(lambda row: Row(label = two_way_interactions(LabeledPoint(row.label, row.features)).label, features = two_way_interactions(LabeledPoint(row.label, row.features)).features)).toDF()\n",
        "\n",
        "# YOUR CODE HERE\n",
        "# raise NotImplementedError()\n"
      ],
      "execution_count": null,
      "outputs": [
        {
          "output_type": "display_data",
          "metadata": {
            "application/vnd.databricks.v1+output": {
              "datasetInfos": [
                {
                  "name": "train_data_interact_df",
                  "typeStr": "pyspark.sql.dataframe.DataFrame",
                  "schema": {
                    "fields": [
                      {
                        "metadata": {},
                        "name": "features",
                        "nullable": true,
                        "type": {
                          "class": "org.apache.spark.mllib.linalg.VectorUDT",
                          "pyClass": "pyspark.mllib.linalg.VectorUDT",
                          "sqlType": {
                            "fields": [
                              {
                                "metadata": {},
                                "name": "type",
                                "nullable": false,
                                "type": "byte"
                              },
                              {
                                "metadata": {},
                                "name": "size",
                                "nullable": true,
                                "type": "integer"
                              },
                              {
                                "metadata": {},
                                "name": "indices",
                                "nullable": true,
                                "type": {
                                  "containsNull": false,
                                  "elementType": "integer",
                                  "type": "array"
                                }
                              },
                              {
                                "metadata": {},
                                "name": "values",
                                "nullable": true,
                                "type": {
                                  "containsNull": false,
                                  "elementType": "double",
                                  "type": "array"
                                }
                              }
                            ],
                            "type": "struct"
                          },
                          "type": "udt"
                        }
                      },
                      {
                        "metadata": {},
                        "name": "label",
                        "nullable": true,
                        "type": "double"
                      }
                    ],
                    "type": "struct"
                  },
                  "tableIdentifier": null
                },
                {
                  "name": "val_data_interact_df",
                  "typeStr": "pyspark.sql.dataframe.DataFrame",
                  "schema": {
                    "fields": [
                      {
                        "metadata": {},
                        "name": "features",
                        "nullable": true,
                        "type": {
                          "class": "org.apache.spark.mllib.linalg.VectorUDT",
                          "pyClass": "pyspark.mllib.linalg.VectorUDT",
                          "sqlType": {
                            "fields": [
                              {
                                "metadata": {},
                                "name": "type",
                                "nullable": false,
                                "type": "byte"
                              },
                              {
                                "metadata": {},
                                "name": "size",
                                "nullable": true,
                                "type": "integer"
                              },
                              {
                                "metadata": {},
                                "name": "indices",
                                "nullable": true,
                                "type": {
                                  "containsNull": false,
                                  "elementType": "integer",
                                  "type": "array"
                                }
                              },
                              {
                                "metadata": {},
                                "name": "values",
                                "nullable": true,
                                "type": {
                                  "containsNull": false,
                                  "elementType": "double",
                                  "type": "array"
                                }
                              }
                            ],
                            "type": "struct"
                          },
                          "type": "udt"
                        }
                      },
                      {
                        "metadata": {},
                        "name": "label",
                        "nullable": true,
                        "type": "double"
                      }
                    ],
                    "type": "struct"
                  },
                  "tableIdentifier": null
                },
                {
                  "name": "test_data_interact_df",
                  "typeStr": "pyspark.sql.dataframe.DataFrame",
                  "schema": {
                    "fields": [
                      {
                        "metadata": {},
                        "name": "features",
                        "nullable": true,
                        "type": {
                          "class": "org.apache.spark.mllib.linalg.VectorUDT",
                          "pyClass": "pyspark.mllib.linalg.VectorUDT",
                          "sqlType": {
                            "fields": [
                              {
                                "metadata": {},
                                "name": "type",
                                "nullable": false,
                                "type": "byte"
                              },
                              {
                                "metadata": {},
                                "name": "size",
                                "nullable": true,
                                "type": "integer"
                              },
                              {
                                "metadata": {},
                                "name": "indices",
                                "nullable": true,
                                "type": {
                                  "containsNull": false,
                                  "elementType": "integer",
                                  "type": "array"
                                }
                              },
                              {
                                "metadata": {},
                                "name": "values",
                                "nullable": true,
                                "type": {
                                  "containsNull": false,
                                  "elementType": "double",
                                  "type": "array"
                                }
                              }
                            ],
                            "type": "struct"
                          },
                          "type": "udt"
                        }
                      },
                      {
                        "metadata": {},
                        "name": "label",
                        "nullable": true,
                        "type": "double"
                      }
                    ],
                    "type": "struct"
                  },
                  "tableIdentifier": null
                }
              ],
              "data": "<div class=\"ansiout\">(0.0,[2.0,3.0,4.0,6.0,6.0,9.0])\nRow(features=[-3.63181047324306, -4.391340151589837, -0.35975487864180605, -1.0429614075340423, -1.3435161843385572, -0.7218276109266315, -0.2550860245063476, 1.0464232224476606, -0.3242275365260396, 0.6752835434118533, -0.26580629517503157, -0.3084139884548128, 0.3123195306615099, -1.4058064132746488], label=0.3458022475242615)\n&lt;class &#39;numpy.ndarray&#39;&gt;\n</div>",
              "removedWidgets": [],
              "addedWidgets": {},
              "type": "html",
              "arguments": {}
            }
          },
          "data": {
            "text/html": [
              "<style scoped>\n  .ansiout {\n    display: block;\n    unicode-bidi: embed;\n    white-space: pre-wrap;\n    word-wrap: break-word;\n    word-break: break-all;\n    font-family: \"Source Code Pro\", \"Menlo\", monospace;;\n    font-size: 13px;\n    color: #555;\n    margin-left: 4px;\n    line-height: 19px;\n  }\n</style>\n<div class=\"ansiout\">(0.0,[2.0,3.0,4.0,6.0,6.0,9.0])\nRow(features=[-3.63181047324306, -4.391340151589837, -0.35975487864180605, -1.0429614075340423, -1.3435161843385572, -0.7218276109266315, -0.2550860245063476, 1.0464232224476606, -0.3242275365260396, 0.6752835434118533, -0.26580629517503157, -0.3084139884548128, 0.3123195306615099, -1.4058064132746488], label=0.3458022475242615)\n&lt;class &#39;numpy.ndarray&#39;&gt;\n</div>"
            ]
          }
        }
      ]
    },
    {
      "cell_type": "code",
      "metadata": {
        "application/vnd.databricks.v1+cell": {
          "title": "",
          "showTitle": false,
          "inputWidgets": {},
          "nuid": "140ae7cc-ea40-4dfb-aa8e-934762dc47ee"
        },
        "id": "ZoAb3gen8_U8",
        "outputId": "2cb57d4a-9b89-4b70-ee3d-b1534ea44295"
      },
      "source": [
        "# TODO: Uncomment the following lines and replace <FILL IN> with appropriate code\n",
        "numIters = 500\n",
        "alpha = 1.0\n",
        "miniBatchFrac = 1.0\n",
        "reg = 1e-10\n",
        "# train_data_interact_df\n",
        "\n",
        "model_interact = LinearRegressionWithSGD.train(data = train_data_interact_df.rdd\n",
        "                                              .map(lambda lp: LabeledPoint(lp.label, lp.features)),\n",
        "                                              iterations=numIters,\n",
        "                                              step=alpha,\n",
        "                                              miniBatchFraction=miniBatchFrac,\n",
        "                                              initialWeights=None,\n",
        "                                              regParam=reg,\n",
        "                                              regType=regType,\n",
        "                                              intercept=useIntercept)\n",
        "\n",
        "labels_and_preds_interact = val_data_interact_df.rdd.map(lambda lp: (lp.label, float(model_interact.predict(lp.features))))\n",
        "labels_and_preds_interact_df = sqlContext.createDataFrame(labels_and_preds_interact, [\"label\", \"prediction\"])\n",
        "rmse_val_interact = calc_RMSE(labels_and_preds_interact_df)\n",
        "\n",
        "print (('Validation RMSE:\\n\\tBaseline = {0:.3f}\\n\\t\\n\\tLR1 = {1:.3f}\\n\\tLRGrid = ' +\n",
        "       '{2:.3f}\\n\\tLRInteract = {3:.3f}').format(rmse_val_base, rmse_val_LR1,\n",
        "                                                 rmse_val_LR_grid, rmse_val_interact))\n",
        "\n",
        "# YOUR CODE HERE\n",
        "# raise NotImplementedError()\n"
      ],
      "execution_count": null,
      "outputs": [
        {
          "output_type": "display_data",
          "metadata": {
            "application/vnd.databricks.v1+output": {
              "datasetInfos": [
                {
                  "name": "labels_and_preds_interact_df",
                  "typeStr": "pyspark.sql.dataframe.DataFrame",
                  "schema": {
                    "fields": [
                      {
                        "metadata": {},
                        "name": "label",
                        "nullable": true,
                        "type": "double"
                      },
                      {
                        "metadata": {},
                        "name": "prediction",
                        "nullable": true,
                        "type": "double"
                      }
                    ],
                    "type": "struct"
                  },
                  "tableIdentifier": null
                }
              ],
              "data": "<div class=\"ansiout\">Validation RMSE:\n\tBaseline = 0.170\n\t\n\tLR1 = 0.147\n\tLRGrid = 0.139\n\tLRInteract = nan\n</div>",
              "removedWidgets": [],
              "addedWidgets": {},
              "type": "html",
              "arguments": {}
            }
          },
          "data": {
            "text/html": [
              "<style scoped>\n  .ansiout {\n    display: block;\n    unicode-bidi: embed;\n    white-space: pre-wrap;\n    word-wrap: break-word;\n    word-break: break-all;\n    font-family: \"Source Code Pro\", \"Menlo\", monospace;;\n    font-size: 13px;\n    color: #555;\n    margin-left: 4px;\n    line-height: 19px;\n  }\n</style>\n<div class=\"ansiout\">Validation RMSE:\n\tBaseline = 0.170\n\t\n\tLR1 = 0.147\n\tLRGrid = 0.139\n\tLRInteract = nan\n</div>"
            ]
          }
        }
      ]
    },
    {
      "cell_type": "code",
      "metadata": {
        "application/vnd.databricks.v1+cell": {
          "title": "",
          "showTitle": false,
          "inputWidgets": {},
          "nuid": "c992aac4-a734-45c4-914c-92665674a9d0"
        },
        "id": "TRyX3Zw-8_U9",
        "outputId": "0a1a3c75-2d37-4bee-bdf9-cb1cb8d78ba2"
      },
      "source": [
        "print(rmse_val_interact)\n",
        "labels_and_preds_interact_test = test_data_interact_df.rdd.map(lambda lp: (lp.label, float(model_interact.predict(lp.features))))\n",
        "labels_and_preds_interact_test_df = sqlContext.createDataFrame(labels_and_preds_interact_test, [\"label\", \"prediction\"])\n",
        "rmse_test_interact = calc_RMSE(labels_and_preds_interact_test_df)\n",
        "\n",
        "print (('Test RMSE:\\n\\tBaseline = {0:.3f}\\n\\tLRInteract = {1:.3f}'\n",
        "       .format(rmse_test_base, rmse_test_interact)))"
      ],
      "execution_count": null,
      "outputs": [
        {
          "output_type": "display_data",
          "metadata": {
            "application/vnd.databricks.v1+output": {
              "datasetInfos": [
                {
                  "name": "labels_and_preds_interact_test_df",
                  "typeStr": "pyspark.sql.dataframe.DataFrame",
                  "schema": {
                    "fields": [
                      {
                        "metadata": {},
                        "name": "label",
                        "nullable": true,
                        "type": "double"
                      },
                      {
                        "metadata": {},
                        "name": "prediction",
                        "nullable": true,
                        "type": "double"
                      }
                    ],
                    "type": "struct"
                  },
                  "tableIdentifier": null
                }
              ],
              "data": "<div class=\"ansiout\">nan\nTest RMSE:\n\tBaseline = 0.159\n\tLRInteract = nan\n</div>",
              "removedWidgets": [],
              "addedWidgets": {},
              "type": "html",
              "arguments": {}
            }
          },
          "data": {
            "text/html": [
              "<style scoped>\n  .ansiout {\n    display: block;\n    unicode-bidi: embed;\n    white-space: pre-wrap;\n    word-wrap: break-word;\n    word-break: break-all;\n    font-family: \"Source Code Pro\", \"Menlo\", monospace;;\n    font-size: 13px;\n    color: #555;\n    margin-left: 4px;\n    line-height: 19px;\n  }\n</style>\n<div class=\"ansiout\">nan\nTest RMSE:\n\tBaseline = 0.159\n\tLRInteract = nan\n</div>"
            ]
          }
        }
      ]
    },
    {
      "cell_type": "code",
      "metadata": {
        "application/vnd.databricks.v1+cell": {
          "title": "",
          "showTitle": false,
          "inputWidgets": {},
          "nuid": "77b790fa-949d-4d64-b645-092a784f2d99"
        },
        "id": "lryZdEpn8_U9",
        "outputId": "5f950d36-e100-412e-8d32-04c5271ab05f"
      },
      "source": [
        ""
      ],
      "execution_count": null,
      "outputs": [
        {
          "output_type": "display_data",
          "metadata": {
            "application/vnd.databricks.v1+output": {
              "type": "ipynbError",
              "data": "",
              "errorSummary": "",
              "arguments": {}
            }
          },
          "data": {
            "text/html": [
              "<style scoped>\n  .ansiout {\n    display: block;\n    unicode-bidi: embed;\n    white-space: pre-wrap;\n    word-wrap: break-word;\n    word-break: break-all;\n    font-family: \"Source Code Pro\", \"Menlo\", monospace;;\n    font-size: 13px;\n    color: #555;\n    margin-left: 4px;\n    line-height: 19px;\n  }\n</style>"
            ]
          }
        }
      ]
    }
  ]
}